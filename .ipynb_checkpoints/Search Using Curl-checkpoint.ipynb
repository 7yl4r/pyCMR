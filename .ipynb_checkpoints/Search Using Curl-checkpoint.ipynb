{
 "cells": [
  {
   "cell_type": "markdown",
   "metadata": {},
   "source": [
    "<h1 style=\"text-align:center;\">CMR Search API Using CURL</h1>"
   ]
  },
  {
   "cell_type": "code",
   "execution_count": null,
   "metadata": {
    "collapsed": false
   },
   "outputs": [],
   "source": [
    "BASE_URL=https://cmr.earthdata.nasa.gov"
   ]
  },
  {
   "cell_type": "markdown",
   "metadata": {},
   "source": [
    "### Find all collections"
   ]
  },
  {
   "cell_type": "code",
   "execution_count": null,
   "metadata": {
    "collapsed": false,
    "scrolled": false
   },
   "outputs": [],
   "source": [
    "curl \"$BASE_URL/search/collections.json?pretty=true\""
   ]
  },
  {
   "cell_type": "markdown",
   "metadata": {},
   "source": [
    "### Find collections by short name and version id"
   ]
  },
  {
   "cell_type": "code",
   "execution_count": null,
   "metadata": {
    "collapsed": false
   },
   "outputs": [],
   "source": [
    "curl \"$BASE_URL/search/collections?pretty=true&short_name=short7&version=v1\""
   ]
  },
  {
   "cell_type": "markdown",
   "metadata": {},
   "source": [
    "### Find collections by temporal query"
   ]
  },
  {
   "cell_type": "code",
   "execution_count": null,
   "metadata": {
    "collapsed": false
   },
   "outputs": [],
   "source": [
    "curl \"$BASE_URL/search/collections.json?pretty=true&updated_since=2015-05-01T00:00:00Z\""
   ]
  },
  {
   "cell_type": "markdown",
   "metadata": {},
   "source": [
    "### Find collections using spatial queries"
   ]
  },
  {
   "cell_type": "markdown",
   "metadata": {},
   "source": [
    "#### By bounding box\n",
    "Bounding boxes define an area on the earth aligned with longitude and latitude. The Bounding box parameters must be 4 comma-separated numbers: lower left longitude, lower left latitude, upper right longitude, upper right latitude."
   ]
  },
  {
   "cell_type": "code",
   "execution_count": null,
   "metadata": {
    "collapsed": false
   },
   "outputs": [],
   "source": [
    "curl \"$BASE_URL/search/collections?pretty=true&bounding_box=-10,-5,10,5\""
   ]
  },
  {
   "cell_type": "markdown",
   "metadata": {},
   "source": [
    "#### By polygon\n",
    "\n",
    "Points are represented by longitude/latitude pairs in counter-clockwise order. The last point must be the same as the first (closed polygon). Polygons are geodetic; points are connected by arcs representing the shortest distance between them on a spherical earth.\n"
   ]
  },
  {
   "cell_type": "code",
   "execution_count": null,
   "metadata": {
    "collapsed": false
   },
   "outputs": [],
   "source": [
    "curl \"$BASE_URL/search/collections?pretty=true&polygon=10,10,30,10,30,20,10,20,10,10\""
   ]
  },
  {
   "cell_type": "markdown",
   "metadata": {},
   "source": [
    "### Retrieving facets with collection search\n",
    "We can retrieve facets by setting the `include_facets` flag to `true`."
   ]
  },
  {
   "cell_type": "code",
   "execution_count": null,
   "metadata": {
    "collapsed": false
   },
   "outputs": [],
   "source": [
    "curl \"$BASE_URL/search/collections?pretty=true&keyword=snowfall&include_facets=true\""
   ]
  },
  {
   "cell_type": "markdown",
   "metadata": {},
   "source": [
    "We can retrieve hierarchical facets by setting the `hierarchical_facets` flag to `true`."
   ]
  },
  {
   "cell_type": "code",
   "execution_count": null,
   "metadata": {
    "collapsed": false
   },
   "outputs": [],
   "source": [
    "curl \"$BASE_URL/search/collections?pretty=true&keyword=snowfall&include_facets=true&hierarchical_facets=true\""
   ]
  },
  {
   "cell_type": "markdown",
   "metadata": {},
   "source": [
    "### Find all granules"
   ]
  },
  {
   "cell_type": "code",
   "execution_count": null,
   "metadata": {
    "collapsed": false
   },
   "outputs": [],
   "source": [
    "curl \"$BASE_URL/search/granules.echo10?pretty=true&provider=$MY_PROVIDER\""
   ]
  },
  {
   "cell_type": "markdown",
   "metadata": {},
   "source": [
    "### Find granules by entry title"
   ]
  },
  {
   "cell_type": "code",
   "execution_count": null,
   "metadata": {
    "collapsed": false
   },
   "outputs": [],
   "source": [
    "curl \"$BASE_URL/search/granules?pretty=true&short_name=ABC2\""
   ]
  },
  {
   "cell_type": "markdown",
   "metadata": {},
   "source": [
    "### Find granules with an orbit equator crossing longitude in the range of 0 to 10"
   ]
  },
  {
   "cell_type": "code",
   "execution_count": null,
   "metadata": {
    "collapsed": false
   },
   "outputs": [],
   "source": [
    "curl \"$BASE_URL/search/granules.echo10?pretty=true&equator_crossing_longitude=0,10\""
   ]
  },
  {
   "cell_type": "markdown",
   "metadata": {},
   "source": [
    "### Retrieving Results in Various Formats\n",
    "\n",
    "The format returned for search results can be specified in one of two ways:\n",
    "\n",
    "#### Using an 'Accept' header"
   ]
  },
  {
   "cell_type": "code",
   "execution_count": null,
   "metadata": {
    "collapsed": false
   },
   "outputs": [],
   "source": [
    "curl -H \"Accept: application/echo10+xml\" \\\n",
    "\"$BASE_URL/search/collections?pretty=true&concept_id=C1020-GHRC\""
   ]
  },
  {
   "cell_type": "markdown",
   "metadata": {
    "collapsed": true
   },
   "source": [
    "#### Using an Extension"
   ]
  },
  {
   "cell_type": "code",
   "execution_count": null,
   "metadata": {
    "collapsed": false
   },
   "outputs": [],
   "source": [
    "curl \"$BASE_URL/search/collections.opendata?pretty=true&concept_id=C1020-GHRC\""
   ]
  },
  {
   "cell_type": "markdown",
   "metadata": {},
   "source": [
    "If no format is specified then the *reference* format is returned."
   ]
  },
  {
   "cell_type": "code",
   "execution_count": null,
   "metadata": {
    "collapsed": false
   },
   "outputs": [],
   "source": [
    "curl \"$BASE_URL/search/collections?pretty=true&concept_id=C1020-GHRC.json\""
   ]
  },
  {
   "cell_type": "markdown",
   "metadata": {},
   "source": [
    "### Supported MIME Types and Extensions\n",
    "| MIME Type | Extension |\n",
    "|-|-|\n",
    "| application/atom+xml | atom |\n",
    "| application/json | json |\n",
    "| application/dif+xml | dif |\n",
    "| application/dif10+xml | dif10 |\n",
    "| application/echo10+xml | echo10 |\n",
    "| application/iso19115+xml | iso, iso19115 |\n",
    "| application/iso:smap+xml | iso-smap, iso_smap |\n",
    "| application/opendata+json | opendata |\n",
    "| application/umm+json | umm-json |\n",
    "| application/vnd.google-earth.kml+xml | kml |\n",
    "\n",
    "Additionally, if the extension `.native` is used then search results will be returned in the format in which they were ingested."
   ]
  },
  {
   "cell_type": "markdown",
   "metadata": {},
   "source": [
    "### Format Examples\n",
    "\n",
    "#### Atom\n",
    "Provides an [Atom](http://www.atomenabled.org/developers/syndication/) feed of collections matching the query. Useful for syndicating CMR search results."
   ]
  },
  {
   "cell_type": "code",
   "execution_count": null,
   "metadata": {
    "collapsed": false
   },
   "outputs": [],
   "source": [
    "curl \"$BASE_URL/search/collections.atom?pretty=true&concept_id=C1020-GHRC\""
   ]
  },
  {
   "cell_type": "markdown",
   "metadata": {},
   "source": [
    "#### JSON\n",
    "Provides the same fields as the Atom response, but in a JSON format instead of XML"
   ]
  },
  {
   "cell_type": "code",
   "execution_count": null,
   "metadata": {
    "collapsed": false
   },
   "outputs": [],
   "source": [
    "curl \"$BASE_URL/search/collections.json?pretty=true&concept_id=C1020-GHRC\""
   ]
  },
  {
   "cell_type": "markdown",
   "metadata": {},
   "source": [
    "#### Opendata\n",
    "Provides and [Opendata 1.1](https://www.data.gov/open-gov/) formatted JSON response. Primary use case is for supporting [Data.gov](https://www.data.gov/open-gov/).\n"
   ]
  },
  {
   "cell_type": "code",
   "execution_count": null,
   "metadata": {
    "collapsed": false
   },
   "outputs": [],
   "source": [
    "curl \"$BASE_URL/search/collections.opendata?pretty=true&concept_id=C1020-GHRC\""
   ]
  },
  {
   "cell_type": "markdown",
   "metadata": {},
   "source": [
    "#### UMM-JSON\n",
    "UMM-JSON is a [JSON Schema](http://json-schema.org/) based format. The spec is in flux as the UMM evolves (only UMM-C is defined as of yet), but it may be useful for CMR client developers."
   ]
  },
  {
   "cell_type": "code",
   "execution_count": null,
   "metadata": {
    "collapsed": false
   },
   "outputs": [],
   "source": [
    "curl \"$BASE_URL/search/collections.umm-json?pretty=true&concept_id=C1020-GHRC\""
   ]
  },
  {
   "cell_type": "markdown",
   "metadata": {},
   "source": [
    "#### KML\n",
    "Google's XML format for expressing geographic annotation and visualization. The primary use case is to make it easy to visualize the spatial extent of metadata."
   ]
  },
  {
   "cell_type": "code",
   "execution_count": null,
   "metadata": {
    "collapsed": false
   },
   "outputs": [],
   "source": [
    "curl -s \"$BASE_URL/search/granules.kml?pretty=true&page_size=1\" -o /tmp/granule.kml"
   ]
  },
  {
   "cell_type": "markdown",
   "metadata": {},
   "source": [
    "*The following command is mac specific and requires Google Earth to be installed*"
   ]
  },
  {
   "cell_type": "code",
   "execution_count": null,
   "metadata": {
    "collapsed": false
   },
   "outputs": [],
   "source": [
    "open /Applications/Google\\ Earth.app/ /tmp/granule.kml"
   ]
  },
  {
   "cell_type": "markdown",
   "metadata": {},
   "source": [
    "### Paging Results\n",
    "We can use `page_size` and `page_num` to page results. Default `page_size` is 10, max is 2000."
   ]
  },
  {
   "cell_type": "code",
   "execution_count": null,
   "metadata": {
    "collapsed": true
   },
   "outputs": [],
   "source": [
    "curl \"$BASE_URL/search/collections?pretty=true&page_size=4\""
   ]
  },
  {
   "cell_type": "code",
   "execution_count": null,
   "metadata": {
    "collapsed": true
   },
   "outputs": [],
   "source": [
    "curl \"$BASE_URL/search/collections?pretty=true&page_size=2&page_num=2\""
   ]
  },
  {
   "cell_type": "markdown",
   "metadata": {},
   "source": [
    "### Sorting Results\n",
    "\n",
    "#### Collection results are sorted by ascending entry title by default."
   ]
  },
  {
   "cell_type": "code",
   "execution_count": null,
   "metadata": {
    "collapsed": false
   },
   "outputs": [],
   "source": [
    "curl \"$BASE_URL/search/collections.json?pretty=true&page_size=20\""
   ]
  },
  {
   "cell_type": "markdown",
   "metadata": {},
   "source": [
    "#### Can sort by other fields using thje `sort_key` parameter."
   ]
  },
  {
   "cell_type": "code",
   "execution_count": null,
   "metadata": {
    "collapsed": false
   },
   "outputs": [],
   "source": [
    "curl \"$BASE_URL/search/collections.json?pretty=true&page_size=20&sort_key=start_date\""
   ]
  },
  {
   "cell_type": "markdown",
   "metadata": {},
   "source": [
    "#### Descending sort using (`-`) in front of sort key"
   ]
  },
  {
   "cell_type": "code",
   "execution_count": null,
   "metadata": {
    "collapsed": false
   },
   "outputs": [],
   "source": [
    "curl \"$BASE_URL/search/collections.json?pretty=true&page_size=20&sort_key=-entry_title\""
   ]
  }
 ],
 "metadata": {
  "kernelspec": {
   "display_name": "Python 2",
   "language": "python",
   "name": "python2"
  },
  "language_info": {
   "codemirror_mode": {
    "name": "ipython",
    "version": 2
   },
   "file_extension": ".py",
   "mimetype": "text/x-python",
   "name": "python",
   "nbconvert_exporter": "python",
   "pygments_lexer": "ipython2",
   "version": "2.7.11"
  }
 },
 "nbformat": 4,
 "nbformat_minor": 0
}
