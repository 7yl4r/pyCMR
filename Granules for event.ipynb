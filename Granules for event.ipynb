{
 "cells": [
  {
   "cell_type": "code",
   "execution_count": 1,
   "metadata": {
    "collapsed": true
   },
   "outputs": [],
   "source": [
    "from pyCMR import searchGranule, searchCollection"
   ]
  },
  {
   "cell_type": "markdown",
   "metadata": {},
   "source": [
    "Fires in Nepal\n",
    "http://earthobservatory.nasa.gov/NaturalHazards/view.php?id=87854&eocn=home&eoci=nh"
   ]
  },
  {
   "cell_type": "markdown",
   "metadata": {},
   "source": [
    "Search for granule using dataset name and datetime"
   ]
  },
  {
   "cell_type": "code",
   "execution_count": 2,
   "metadata": {
    "collapsed": false
   },
   "outputs": [
    {
     "name": "stdout",
     "output_type": "stream",
     "text": [
      "======== Waiting for response ========\n",
      "ftp://nrt1.modaps.eosdis.nasa.gov/allData/1/MYD14/2016/102/MYD14.A2016102.1155.005.NRT.hdf\n",
      "ftp://nrt1.modaps.eosdis.nasa.gov/allData/1/MYD14/2016/102/MYD14.A2016102.1200.005.NRT.hdf\n",
      "ftp://nrt1.modaps.eosdis.nasa.gov/allData/1/MYD14/2016/102/MYD14.A2016102.1205.005.NRT.hdf\n",
      "ftp://nrt1.modaps.eosdis.nasa.gov/allData/1/MYD14/2016/102/MYD14.A2016102.1210.005.NRT.hdf\n",
      "ftp://nrt1.modaps.eosdis.nasa.gov/allData/1/MYD14/2016/102/MYD14.A2016102.1215.005.NRT.hdf\n",
      "ftp://nrt1.modaps.eosdis.nasa.gov/allData/1/MYD14/2016/102/MYD14.A2016102.1220.005.NRT.hdf\n",
      "ftp://nrt1.modaps.eosdis.nasa.gov/allData/1/MYD14/2016/102/MYD14.A2016102.1225.005.NRT.hdf\n",
      "ftp://nrt1.modaps.eosdis.nasa.gov/allData/1/MYD14/2016/102/MYD14.A2016102.1230.005.NRT.hdf\n",
      "ftp://nrt1.modaps.eosdis.nasa.gov/allData/1/MYD14/2016/102/MYD14.A2016102.1235.005.NRT.hdf\n",
      "ftp://nrt1.modaps.eosdis.nasa.gov/allData/1/MYD14/2016/102/MYD14.A2016102.1240.005.NRT.hdf\n",
      "ftp://nrt1.modaps.eosdis.nasa.gov/allData/1/MYD14/2016/102/MYD14.A2016102.1245.005.NRT.hdf\n",
      "ftp://nrt1.modaps.eosdis.nasa.gov/allData/1/MYD14/2016/102/MYD14.A2016102.1250.005.NRT.hdf\n",
      "ftp://nrt1.modaps.eosdis.nasa.gov/allData/1/MYD14/2016/102/MYD14.A2016102.1255.005.NRT.hdf\n",
      "ftp://nrt1.modaps.eosdis.nasa.gov/allData/1/MYD14/2016/102/MYD14.A2016102.1300.005.NRT.hdf\n"
     ]
    }
   ],
   "source": [
    "results = searchGranule(entry_title='MODIS/Aqua Near Real Time (NRT) Thermal Anomalies/Fire 5-Min L2 Swath 1km (C005)',\n",
    "                        temporal=\"2016-04-11T12:00:00Z,2016-04-11T13:00:00Z\")\n",
    "for res in results:\n",
    "    print res.getDownloadUrl()"
   ]
  },
  {
   "cell_type": "markdown",
   "metadata": {},
   "source": [
    "Further subset using bounding box"
   ]
  },
  {
   "cell_type": "code",
   "execution_count": 3,
   "metadata": {
    "collapsed": false
   },
   "outputs": [
    {
     "name": "stdout",
     "output_type": "stream",
     "text": [
      "======== Waiting for response ========\n",
      "ftp://nrt1.modaps.eosdis.nasa.gov/allData/1/MYD14/2016/102/MYD14.A2016102.1205.005.NRT.hdf\n"
     ]
    }
   ],
   "source": [
    "results = searchGranule(entry_title='MODIS/Aqua Near Real Time (NRT) Thermal Anomalies/Fire 5-Min L2 Swath 1km (C005)',\n",
    "                        temporal=\"2016-04-11T12:00:00Z,2016-04-11T13:00:00Z\",bounding_box=\"30,26,90,31\")\n",
    "for res in results:\n",
    "    print res.getDownloadUrl()"
   ]
  },
  {
   "cell_type": "code",
   "execution_count": null,
   "metadata": {
    "collapsed": true
   },
   "outputs": [],
   "source": []
  }
 ],
 "metadata": {
  "kernelspec": {
   "display_name": "Python 2",
   "language": "python",
   "name": "python2"
  },
  "language_info": {
   "codemirror_mode": {
    "name": "ipython",
    "version": 2
   },
   "file_extension": ".py",
   "mimetype": "text/x-python",
   "name": "python",
   "nbconvert_exporter": "python",
   "pygments_lexer": "ipython2",
   "version": "2.7.11"
  }
 },
 "nbformat": 4,
 "nbformat_minor": 0
}
