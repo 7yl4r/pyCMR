{
 "cells": [
  {
   "cell_type": "code",
   "execution_count": 2,
   "metadata": {
    "collapsed": false
   },
   "outputs": [],
   "source": [
    "from hs3_meta_data import metaDataTool"
   ]
  },
  {
   "cell_type": "markdown",
   "metadata": {},
   "source": [
    "Metadata without online resources"
   ]
  },
  {
   "cell_type": "code",
   "execution_count": 3,
   "metadata": {
    "collapsed": true
   },
   "outputs": [],
   "source": [
    "metaData=metaDataTool()"
   ]
  },
  {
   "cell_type": "code",
   "execution_count": 4,
   "metadata": {
    "collapsed": true
   },
   "outputs": [],
   "source": [
    "xmldata=metaData.getMetaData(rootDir=\"path/To/NetCDF/Folder\",ds_short_name=\"hs3cpl\", versionId=1)"
   ]
  },
  {
   "cell_type": "code",
   "execution_count": 5,
   "metadata": {
    "collapsed": false
   },
   "outputs": [
    {
     "name": "stdout",
     "output_type": "stream",
     "text": [
      "<Granules><Granule><GranuleUR>IPHEX_HIWRAP_L1B_20140515-165808-20140515-180155_HKa_dist_v02.nc</GranuleUR><InsertTime>2016-10-27T18:44:08Z</InsertTime><LastUpdate>2016-10-27T18:44:08Z</LastUpdate><Collection><ShortName>A2_RainOcn_NRNB</ShortName><VersionId>1</VersionId></Collection><DataGranule><SizeMBDataGranule>74.88701</SizeMBDataGranule><DayNightFlag>UNSPECIFIED</DayNightFlag><ProductionDateTime>2016-10-27T18:44:08Z</ProductionDateTime></DataGranule><Temporal><RangeDateTime><BeginningDateTime>2014-05-15T16:58:08Z</BeginningDateTime><EndingDateTime>2014-05-15T16:58:08Z</EndingDateTime></RangeDateTime></Temporal><Spatial><HorizontalSpatialDomain><Geometry><BoundingRectangle><WestBoundingCoordinate>-82.95992</WestBoundingCoordinate><NorthBoundingCoordinate>35.52453</NorthBoundingCoordinate><EastBoundingCoordinate>-81.68137</EastBoundingCoordinate><SouthBoundingCoordinate>35.16795</SouthBoundingCoordinate></BoundingRectangle></Geometry></HorizontalSpatialDomain></Spatial><Orderable>true</Orderable></Granule><Granule><GranuleUR>IPHEX_HIWRAP_L1B_20140515-165808-20140515-180155_HKa_dist_v01.nc</GranuleUR><InsertTime>2016-10-27T18:44:08Z</InsertTime><LastUpdate>2016-10-27T18:44:08Z</LastUpdate><Collection><ShortName>A2_RainOcn_NRNB</ShortName><VersionId>1</VersionId></Collection><DataGranule><SizeMBDataGranule>74.88701</SizeMBDataGranule><DayNightFlag>UNSPECIFIED</DayNightFlag><ProductionDateTime>2016-10-27T18:44:08Z</ProductionDateTime></DataGranule><Temporal><RangeDateTime><BeginningDateTime>2014-05-15T16:58:08Z</BeginningDateTime><EndingDateTime>2014-05-15T16:58:08Z</EndingDateTime></RangeDateTime></Temporal><Spatial><HorizontalSpatialDomain><Geometry><BoundingRectangle><WestBoundingCoordinate>-82.95992</WestBoundingCoordinate><NorthBoundingCoordinate>35.52453</NorthBoundingCoordinate><EastBoundingCoordinate>-81.68137</EastBoundingCoordinate><SouthBoundingCoordinate>35.16795</SouthBoundingCoordinate></BoundingRectangle></Geometry></HorizontalSpatialDomain></Spatial><Orderable>true</Orderable></Granule></Granules>\n"
     ]
    }
   ],
   "source": [
    "print(xmldata)"
   ]
  },
  {
   "cell_type": "markdown",
   "metadata": {},
   "source": [
    "With online resources"
   ]
  },
  {
   "cell_type": "code",
   "execution_count": 13,
   "metadata": {
    "collapsed": true
   },
   "outputs": [],
   "source": [
    "metaData=metaDataTool(metaDataURLResources=\"REST API URL\", metaDataAPI=\"REST API key\")"
   ]
  },
  {
   "cell_type": "code",
   "execution_count": 14,
   "metadata": {
    "collapsed": false
   },
   "outputs": [],
   "source": [
    "xmldata=metaData.getMetaData(rootDir=\"path/To/NetCDF/Folder\",ds_short_name=\"hs3cpl\", versionId=1)"
   ]
  },
  {
   "cell_type": "code",
   "execution_count": 15,
   "metadata": {
    "collapsed": false
   },
   "outputs": [
    {
     "name": "stdout",
     "output_type": "stream",
     "text": [
      "<Granules><Granule><GranuleUR>IPHEX_HIWRAP_L1B_20140515-165808-20140515-180155_HKa_dist_v02.nc</GranuleUR><InsertTime>2016-10-27T18:57:47Z</InsertTime><LastUpdate>2016-10-27T18:57:47Z</LastUpdate><Collection><ShortName>hs3cpl</ShortName><VersionId>1</VersionId></Collection><DataGranule><SizeMBDataGranule>74.88701</SizeMBDataGranule><DayNightFlag>UNSPECIFIED</DayNightFlag><ProductionDateTime>2016-10-27T18:57:47Z</ProductionDateTime></DataGranule><Temporal><RangeDateTime><BeginningDateTime>2014-05-15T16:58:08Z</BeginningDateTime><EndingDateTime>2014-05-15T16:58:08Z</EndingDateTime></RangeDateTime></Temporal><Spatial><HorizontalSpatialDomain><Geometry><BoundingRectangle><WestBoundingCoordinate>-82.95992</WestBoundingCoordinate><NorthBoundingCoordinate>35.52453</NorthBoundingCoordinate><EastBoundingCoordinate>-81.68137</EastBoundingCoordinate><SouthBoundingCoordinate>35.16795</SouthBoundingCoordinate></BoundingRectangle></Geometry></HorizontalSpatialDomain></Spatial><OnlineAccessURLs><OnlineAccessURL><URL>https://ghrc.nsstc.nasa.gov/pub/fieldCampaigns/hs3/CPL/data/IPHEX_HIWRAP_L1B_20140515-165808-20140515-180155_HKa_dist_v02.nc</URL></OnlineAccessURL></OnlineAccessURLs><OnlineResources><OnlineResource><URL>https://ghrc.nsstc.nasa.gov/pub/doc/hs3/hs3cpl/CPL_OP_HDF_format.doc</URL><Description>Description of the Cloud Physics Lidar (CPL) netCDF data format.</Description><Type>PI Documentation</Type></OnlineResource><OnlineResource><URL>https://ghrc.nsstc.nasa.gov/pub/doc/hs3/hs3cpl/read_atb_hdf5.pro</URL><Description>Sample IDL program to read a CPL attenuated total backscatter (ATB) HDF5 file.</Description><Type>Software</Type></OnlineResource><OnlineResource><URL>https://ghrc.nsstc.nasa.gov/pub/doc/hs3/hs3cpl/read_op_hdf5.pro</URL><Description>Sample IDL program to read a CPL optical properties (OP) HDF5 file.</Description><Type>Software</Type></OnlineResource><OnlineResource><URL>https://ghrc.nsstc.nasa.gov/pub/doc/hs3/hs3cpl/CPL_netCDF_format.docx</URL><Description>Description of the Cloud Physics Lidar (CPL) netCDF data format.</Description><Type>PI Documentation</Type></OnlineResource><OnlineResource><URL>https://ghrc.nsstc.nasa.gov/pub/doc/hs3/hs3cpl/CPL_ATB_HDF_format.doc</URL><Description>Definitions of global attributes for the CPL Attenuated Total Backscatter (ATB) HDF file.</Description><Type>PI Documentation</Type></OnlineResource><OnlineResource><URL>https://ghrc.nsstc.nasa.gov/home/projects/HS3</URL><Type>Homepage</Type></OnlineResource><OnlineResource><URL>https://ghrc.nsstc.nasa.gov/pub/doc/hs3/hs3cpl/hs3cpl_dataset.html</URL><Type>Guide</Type></OnlineResource><OnlineResource><URL>http://dx.doi.org/10.5067/HS3/CPL/DATA202</URL><Type>DOI</Type></OnlineResource><OnlineResource><URL>https://espo.nasa.gov/missions/hs3/</URL><Description>NASA Hurricane and Severe Storm Sentinel mission</Description><Type>Related URLs</Type></OnlineResource><OnlineResource><URL>https://ghrc.nsstc.nasa.gov/pub/fieldCampaigns/hs3/CPL/browse/2013/0904/HS3_CPL_imgsum_13216b_20130904_532.gif</URL><Type>BROWSE SAMPLE</Type></OnlineResource><OnlineResource><URL>https://ghrc.nsstc.nasa.gov/pub/fieldCampaigns/hs3/CPL/browse/2013/0904/HS3_CPL_map_13216b_20130904.gif</URL><Type>BROWSE SAMPLE</Type></OnlineResource><OnlineResource><URL>https://dx.doi.org/10.1029/2011JD015942</URL><Description>Airborne validation of cirrus cloud properties derived from CALIPSO lidar measurements: Spatial properties</Description><Type>Algorithm Information</Type></OnlineResource><OnlineResource><URL>https://dx.doi.org/10.1175/2011JTECHA1507.1</URL><Description>Statistics of Cloud Optical Properties from Airborne Lidar Measurements</Description><Type>Algorithm Information</Type></OnlineResource><OnlineResource><URL>https://dx.doi.org/10.1029/2002JD002370</URL><Description>Airborne lidar measurements of aerosol optical properties during SAFARI-2000</Description><Type>Algorithm Information</Type></OnlineResource><OnlineResource><URL>https://dx.doi.org/10.1029/2011JD017053</URL><Description>Airborne validation of cirrus cloud properties derived from CALIPSO lidar measurements: Optical properties</Description><Type>Algorithm Information</Type></OnlineResource><OnlineResource><URL>https://ghrc.nsstc.nasa.gov/opendap/fieldCampaigns/hs3/CPL/data/IPHEX_HIWRAP_L1B_20140515-165808-20140515-180155_HKa_dist_v02.nc</URL><Type>OPeNDAP</Type></OnlineResource><OnlineResource><URL>https://ghrc.nsstc.nasa.gov/pub/fieldCampaigns/hs3/CPL/browse/</URL><Type>Browse</Type></OnlineResource><OnlineResource><URL>https://ghrc.nsstc.nasa.gov/pub/fieldCampaigns/hs3/CPL/data/</URL><Type>Data Access</Type></OnlineResource></OnlineResources><Orderable>true</Orderable></Granule><Granule><GranuleUR>IPHEX_HIWRAP_L1B_20140515-165808-20140515-180155_HKa_dist_v01.nc</GranuleUR><InsertTime>2016-10-27T18:57:47Z</InsertTime><LastUpdate>2016-10-27T18:57:47Z</LastUpdate><Collection><ShortName>hs3cpl</ShortName><VersionId>1</VersionId></Collection><DataGranule><SizeMBDataGranule>74.88701</SizeMBDataGranule><DayNightFlag>UNSPECIFIED</DayNightFlag><ProductionDateTime>2016-10-27T18:57:47Z</ProductionDateTime></DataGranule><Temporal><RangeDateTime><BeginningDateTime>2014-05-15T16:58:08Z</BeginningDateTime><EndingDateTime>2014-05-15T16:58:08Z</EndingDateTime></RangeDateTime></Temporal><Spatial><HorizontalSpatialDomain><Geometry><BoundingRectangle><WestBoundingCoordinate>-82.95992</WestBoundingCoordinate><NorthBoundingCoordinate>35.52453</NorthBoundingCoordinate><EastBoundingCoordinate>-81.68137</EastBoundingCoordinate><SouthBoundingCoordinate>35.16795</SouthBoundingCoordinate></BoundingRectangle></Geometry></HorizontalSpatialDomain></Spatial><OnlineAccessURLs><OnlineAccessURL><URL>https://ghrc.nsstc.nasa.gov/pub/fieldCampaigns/hs3/CPL/data/IPHEX_HIWRAP_L1B_20140515-165808-20140515-180155_HKa_dist_v01.nc</URL></OnlineAccessURL></OnlineAccessURLs><OnlineResources><OnlineResource><URL>https://ghrc.nsstc.nasa.gov/pub/doc/hs3/hs3cpl/CPL_OP_HDF_format.doc</URL><Description>Description of the Cloud Physics Lidar (CPL) netCDF data format.</Description><Type>PI Documentation</Type></OnlineResource><OnlineResource><URL>https://ghrc.nsstc.nasa.gov/pub/doc/hs3/hs3cpl/read_atb_hdf5.pro</URL><Description>Sample IDL program to read a CPL attenuated total backscatter (ATB) HDF5 file.</Description><Type>Software</Type></OnlineResource><OnlineResource><URL>https://ghrc.nsstc.nasa.gov/pub/doc/hs3/hs3cpl/read_op_hdf5.pro</URL><Description>Sample IDL program to read a CPL optical properties (OP) HDF5 file.</Description><Type>Software</Type></OnlineResource><OnlineResource><URL>https://ghrc.nsstc.nasa.gov/pub/doc/hs3/hs3cpl/CPL_netCDF_format.docx</URL><Description>Description of the Cloud Physics Lidar (CPL) netCDF data format.</Description><Type>PI Documentation</Type></OnlineResource><OnlineResource><URL>https://ghrc.nsstc.nasa.gov/pub/doc/hs3/hs3cpl/CPL_ATB_HDF_format.doc</URL><Description>Definitions of global attributes for the CPL Attenuated Total Backscatter (ATB) HDF file.</Description><Type>PI Documentation</Type></OnlineResource><OnlineResource><URL>https://ghrc.nsstc.nasa.gov/home/projects/HS3</URL><Type>Homepage</Type></OnlineResource><OnlineResource><URL>https://ghrc.nsstc.nasa.gov/pub/doc/hs3/hs3cpl/hs3cpl_dataset.html</URL><Type>Guide</Type></OnlineResource><OnlineResource><URL>http://dx.doi.org/10.5067/HS3/CPL/DATA202</URL><Type>DOI</Type></OnlineResource><OnlineResource><URL>https://espo.nasa.gov/missions/hs3/</URL><Description>NASA Hurricane and Severe Storm Sentinel mission</Description><Type>Related URLs</Type></OnlineResource><OnlineResource><URL>https://ghrc.nsstc.nasa.gov/pub/fieldCampaigns/hs3/CPL/browse/2013/0904/HS3_CPL_imgsum_13216b_20130904_532.gif</URL><Type>BROWSE SAMPLE</Type></OnlineResource><OnlineResource><URL>https://ghrc.nsstc.nasa.gov/pub/fieldCampaigns/hs3/CPL/browse/2013/0904/HS3_CPL_map_13216b_20130904.gif</URL><Type>BROWSE SAMPLE</Type></OnlineResource><OnlineResource><URL>https://dx.doi.org/10.1029/2011JD015942</URL><Description>Airborne validation of cirrus cloud properties derived from CALIPSO lidar measurements: Spatial properties</Description><Type>Algorithm Information</Type></OnlineResource><OnlineResource><URL>https://dx.doi.org/10.1175/2011JTECHA1507.1</URL><Description>Statistics of Cloud Optical Properties from Airborne Lidar Measurements</Description><Type>Algorithm Information</Type></OnlineResource><OnlineResource><URL>https://dx.doi.org/10.1029/2002JD002370</URL><Description>Airborne lidar measurements of aerosol optical properties during SAFARI-2000</Description><Type>Algorithm Information</Type></OnlineResource><OnlineResource><URL>https://dx.doi.org/10.1029/2011JD017053</URL><Description>Airborne validation of cirrus cloud properties derived from CALIPSO lidar measurements: Optical properties</Description><Type>Algorithm Information</Type></OnlineResource><OnlineResource><URL>https://ghrc.nsstc.nasa.gov/opendap/fieldCampaigns/hs3/CPL/data/IPHEX_HIWRAP_L1B_20140515-165808-20140515-180155_HKa_dist_v01.nc</URL><Type>OPeNDAP</Type></OnlineResource><OnlineResource><URL>https://ghrc.nsstc.nasa.gov/pub/fieldCampaigns/hs3/CPL/browse/</URL><Type>Browse</Type></OnlineResource><OnlineResource><URL>https://ghrc.nsstc.nasa.gov/pub/fieldCampaigns/hs3/CPL/data/</URL><Type>Data Access</Type></OnlineResource></OnlineResources><Orderable>true</Orderable></Granule></Granules>\n"
     ]
    }
   ],
   "source": [
    "print(xmldata)"
   ]
  }
 ],
 "metadata": {
  "kernelspec": {
   "display_name": "Python [Root]",
   "language": "python",
   "name": "Python [Root]"
  },
  "language_info": {
   "codemirror_mode": {
    "name": "ipython",
    "version": 2
   },
   "file_extension": ".py",
   "mimetype": "text/x-python",
   "name": "python",
   "nbconvert_exporter": "python",
   "pygments_lexer": "ipython2",
   "version": "2.7.12"
  }
 },
 "nbformat": 4,
 "nbformat_minor": 0
}
