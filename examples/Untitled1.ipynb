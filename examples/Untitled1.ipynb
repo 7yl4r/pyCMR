{
 "cells": [
  {
   "cell_type": "code",
   "execution_count": 1,
   "metadata": {
    "collapsed": true
   },
   "outputs": [],
   "source": [
    "from pyCMR import CMR"
   ]
  },
  {
   "cell_type": "code",
   "execution_count": 3,
   "metadata": {
    "collapsed": false
   },
   "outputs": [],
   "source": [
    "cmr=CMR(\"/home/marouane/PycharmProjects/cmr/cmr.cfg.example\")"
   ]
  },
  {
   "cell_type": "code",
   "execution_count": 4,
   "metadata": {
    "collapsed": false
   },
   "outputs": [
    {
     "ename": "AttributeError",
     "evalue": "'CMR' object has no attribute 'ingestNetCDFFiles'",
     "output_type": "error",
     "traceback": [
      "\u001b[1;31m---------------------------------------------------------------------------\u001b[0m",
      "\u001b[1;31mAttributeError\u001b[0m                            Traceback (most recent call last)",
      "\u001b[1;32m<ipython-input-4-f5242ac735a8>\u001b[0m in \u001b[0;36m<module>\u001b[1;34m()\u001b[0m\n\u001b[1;32m----> 1\u001b[1;33m \u001b[0mcmr\u001b[0m\u001b[1;33m.\u001b[0m\u001b[0mingestNetCDFFiles\u001b[0m\u001b[1;33m(\u001b[0m\u001b[0mrootDir\u001b[0m\u001b[1;33m=\u001b[0m\u001b[1;34m\"/home/marouane/Documents/IPHEX/\"\u001b[0m\u001b[1;33m,\u001b[0m\u001b[0mds_short_name\u001b[0m\u001b[1;33m=\u001b[0m\u001b[1;34m\"A2_RainOcn_NRNB\"\u001b[0m\u001b[1;33m)\u001b[0m\u001b[1;33m\u001b[0m\u001b[0m\n\u001b[0m",
      "\u001b[1;31mAttributeError\u001b[0m: 'CMR' object has no attribute 'ingestNetCDFFiles'"
     ]
    }
   ],
   "source": [
    "cmr.ingestNetCDFFiles(rootDir=\"/home/marouane/Documents/IPHEX/\",ds_short_name=\"A2_RainOcn_NRNB\")"
   ]
  }
 ],
 "metadata": {
  "kernelspec": {
   "display_name": "Python [Root]",
   "language": "python",
   "name": "Python [Root]"
  },
  "language_info": {
   "codemirror_mode": {
    "name": "ipython",
    "version": 2
   },
   "file_extension": ".py",
   "mimetype": "text/x-python",
   "name": "python",
   "nbconvert_exporter": "python",
   "pygments_lexer": "ipython2",
   "version": "2.7.12"
  }
 },
 "nbformat": 4,
 "nbformat_minor": 0
}
