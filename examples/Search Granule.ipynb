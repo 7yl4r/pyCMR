{
 "cells": [
  {
   "cell_type": "markdown",
   "metadata": {},
   "source": [
    "Import library"
   ]
  },
  {
   "cell_type": "code",
   "execution_count": 3,
   "metadata": {},
   "outputs": [],
   "source": [
    "import datetime\n",
    "from pyCMR.pyCMR import CMR\n",
    "\n",
    "cmr = CMR('/path/to/my/cmr.cfg')  # or `cmr = CMR()` to load from env vars"
   ]
  },
  {
   "cell_type": "markdown",
   "metadata": {},
   "source": [
    "Search collection using keyword and data center"
   ]
  },
  {
   "cell_type": "code",
   "execution_count": 7,
   "metadata": {},
   "outputs": [
    {
     "name": "stdout",
     "output_type": "stream",
     "text": [
      "17\n",
      "MODIS -- MOD021KM\n",
      "MODIS -- MYD021KM\n",
      "MODIS -- MOD02HKM\n",
      "MODIS -- MOD02QKM\n",
      "MODIS -- MYD02HKM\n",
      "MODIS -- MYD02QKM\n",
      "MODIS -- MOD021KM\n",
      "MODIS -- MOD02QKM\n",
      "MODIS -- MYD021KM\n",
      "MODIS -- MOD02HKM\n",
      "MODIS -- MYD02QKM\n",
      "MODIS -- MYD02HKM\n",
      "MISR -- MIRCCMF\n",
      "MISR -- MI1B2T\n",
      "MISR -- MB2LME\n",
      "MISR -- MB2LMT\n",
      "MISR -- MIRCCM\n"
     ]
    }
   ],
   "source": [
    "startDate = str(datetime.date(2017, 8, 20))\n",
    "stopDate = str(datetime.date(2017, 8, 21))\n",
    "\n",
    "results = cmr.searchCollection(limit=17, processing_level_id='1B', temporal=startDate + ',' + stopDate)\n",
    "print(len(results))\n",
    "\n",
    "for res in results:\n",
    "    try:\n",
    "        print(res['Collection']['Platforms']['Platform']['Instruments']['Instrument']['ShortName'] + ' -- ' + res['Collection']['ShortName'])\n",
    "    except:\n",
    "        print(res['Collection']['Platforms']['Platform']['Instruments'][0]['Instrument']['ShortName'] + ' -- ' + res['Collection']['ShortName'])"
   ]
  },
  {
   "cell_type": "markdown",
   "metadata": {},
   "source": [
    "Search granules using shortname and date range"
   ]
  },
  {
   "cell_type": "code",
   "execution_count": null,
   "metadata": {},
   "outputs": [],
   "source": [
    "results = cmr.searchGranule(limit=10,short_name=\"MOD09CMG\",temporal=\"2010-02-01T10:00:00Z,2010-02-01T12:00:00Z\")\n",
    "\n",
    "for res in results:\n",
    "    print(res.getDownloadUrl())\n",
    "#     res.download()"
   ]
  },
  {
   "cell_type": "markdown",
   "metadata": {},
   "source": [
    "Search granules using shortname, date range and bounding box, as well as day_night_flag"
   ]
  },
  {
   "cell_type": "code",
   "execution_count": 5,
   "metadata": {
    "collapsed": true
   },
   "outputs": [],
   "source": [
    "# Gulf of Finland\n",
    "north = '60.8'\n",
    "south = '59.2'\n",
    "west  = '22.9'\n",
    "east  = '30.3'\n",
    "\n",
    "# Prepare the list of products we want to download from\n",
    "productList = 'MYD03', 'MOD03', 'MOD021KM', 'MYD021KM', 'MOD02HKM', 'MYD02HKM', 'MOD02QKM', 'MYD02QKM'\n",
    "\n",
    "download_list = []\n",
    "results = []\n",
    "\n",
    "# for product in productList:\n",
    "for product in productList:\n",
    "    results = cmr.searchGranule(limit=100, short_name=product, temporal=startDate + ',' + stopDate, bounding_box='{},{},{},{}'.format(west,south,east,north), day_night_flag='day')\n",
    "    for res in results:\n",
    "        download_list.append(res.getDownloadUrl())"
   ]
  },
  {
   "cell_type": "code",
   "execution_count": 6,
   "metadata": {},
   "outputs": [
    {
     "data": {
      "text/plain": [
       "['ftp://nrt3.modaps.eosdis.nasa.gov/allData/6/MYD03/2017/232/MYD03.A2017232.0855.006.NRT.hdf',\n",
       " 'ftp://nrt3.modaps.eosdis.nasa.gov/allData/6/MYD03/2017/232/MYD03.A2017232.1035.006.NRT.hdf',\n",
       " 'ftp://nrt3.modaps.eosdis.nasa.gov/allData/6/MYD03/2017/232/MYD03.A2017232.1210.006.NRT.hdf',\n",
       " 'ftp://nrt3.modaps.eosdis.nasa.gov/allData/6/MOD03/2017/232/MOD03.A2017232.0845.006.NRT.hdf',\n",
       " 'ftp://nrt3.modaps.eosdis.nasa.gov/allData/6/MOD03/2017/232/MOD03.A2017232.1020.006.NRT.hdf',\n",
       " 'ftp://nrt3.modaps.eosdis.nasa.gov/allData/6/MOD021KM/2017/232/MOD021KM.A2017232.0845.006.NRT.hdf',\n",
       " 'ftp://nrt3.modaps.eosdis.nasa.gov/allData/6/MOD021KM/2017/232/MOD021KM.A2017232.1020.006.NRT.hdf',\n",
       " 'ftp://nrt3.modaps.eosdis.nasa.gov/allData/6/MYD021KM/2017/232/MYD021KM.A2017232.0855.006.NRT.hdf',\n",
       " 'ftp://nrt3.modaps.eosdis.nasa.gov/allData/6/MYD021KM/2017/232/MYD021KM.A2017232.1035.006.NRT.hdf',\n",
       " 'ftp://nrt3.modaps.eosdis.nasa.gov/allData/6/MYD021KM/2017/232/MYD021KM.A2017232.1210.006.NRT.hdf',\n",
       " 'ftp://nrt3.modaps.eosdis.nasa.gov/allData/6/MOD02HKM/2017/232/MOD02HKM.A2017232.0845.006.NRT.hdf',\n",
       " 'ftp://nrt3.modaps.eosdis.nasa.gov/allData/6/MOD02HKM/2017/232/MOD02HKM.A2017232.1020.006.NRT.hdf',\n",
       " 'ftp://nrt3.modaps.eosdis.nasa.gov/allData/6/MYD02HKM/2017/232/MYD02HKM.A2017232.0855.006.NRT.hdf',\n",
       " 'ftp://nrt3.modaps.eosdis.nasa.gov/allData/6/MYD02HKM/2017/232/MYD02HKM.A2017232.1035.006.NRT.hdf',\n",
       " 'ftp://nrt3.modaps.eosdis.nasa.gov/allData/6/MYD02HKM/2017/232/MYD02HKM.A2017232.1210.006.NRT.hdf',\n",
       " 'ftp://nrt3.modaps.eosdis.nasa.gov/allData/6/MOD02QKM/2017/232/MOD02QKM.A2017232.0845.006.NRT.hdf',\n",
       " 'ftp://nrt3.modaps.eosdis.nasa.gov/allData/6/MOD02QKM/2017/232/MOD02QKM.A2017232.1020.006.NRT.hdf',\n",
       " 'ftp://nrt3.modaps.eosdis.nasa.gov/allData/6/MYD02QKM/2017/232/MYD02QKM.A2017232.0855.006.NRT.hdf',\n",
       " 'ftp://nrt3.modaps.eosdis.nasa.gov/allData/6/MYD02QKM/2017/232/MYD02QKM.A2017232.1035.006.NRT.hdf',\n",
       " 'ftp://nrt3.modaps.eosdis.nasa.gov/allData/6/MYD02QKM/2017/232/MYD02QKM.A2017232.1210.006.NRT.hdf']"
      ]
     },
     "execution_count": 6,
     "metadata": {},
     "output_type": "execute_result"
    }
   ],
   "source": [
    "# filter out lance modaps, keeping only nrt\n",
    "download_list = list(filter( lambda x: x.find('nrt3') != -1, download_list ))\n",
    "\n",
    "download_list"
   ]
  },
  {
   "cell_type": "code",
   "execution_count": null,
   "metadata": {
    "collapsed": true
   },
   "outputs": [],
   "source": []
  }
 ],
 "metadata": {
  "kernelspec": {
   "display_name": "Python 3",
   "language": "python",
   "name": "python3"
  },
  "language_info": {
   "codemirror_mode": {
    "name": "ipython",
    "version": 3
   },
   "file_extension": ".py",
   "mimetype": "text/x-python",
   "name": "python",
   "nbconvert_exporter": "python",
   "pygments_lexer": "ipython3",
   "version": "3.5.2"
  },
  "toc": {
   "colors": {
    "hover_highlight": "#DAA520",
    "navigate_num": "#000000",
    "navigate_text": "#333333",
    "running_highlight": "#FF0000",
    "selected_highlight": "#FFD700",
    "sidebar_border": "#EEEEEE",
    "wrapper_background": "#FFFFFF"
   },
   "moveMenuLeft": true,
   "nav_menu": {
    "height": "4px",
    "width": "254px"
   },
   "navigate_menu": true,
   "number_sections": true,
   "sideBar": true,
   "threshold": 4.0,
   "toc_cell": false,
   "toc_section_display": "block",
   "toc_window_display": false,
   "widenNotebook": false
  }
 },
 "nbformat": 4,
 "nbformat_minor": 1
}
