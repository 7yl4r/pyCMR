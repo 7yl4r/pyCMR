{
 "cells": [
  {
   "cell_type": "code",
   "execution_count": 1,
   "metadata": {
    "collapsed": true
   },
   "outputs": [],
   "source": [
    "from pyCMR import CMR\n",
    "\n"
   ]
  },
  {
   "cell_type": "code",
   "execution_count": 5,
   "metadata": {
    "collapsed": false
   },
   "outputs": [],
   "source": [
    "cmr=CMR(\"cmr.cfg.example\")"
   ]
  },
  {
   "cell_type": "code",
   "execution_count": 8,
   "metadata": {
    "collapsed": false
   },
   "outputs": [
    {
     "data": {
      "text/plain": [
       "['<?xml version=\"1.0\" encoding=\"UTF-8\"?><result><concept-id>G1216382985-GHRC</concept-id><revision-id>4</revision-id></result>',\n",
       " '<?xml version=\"1.0\" encoding=\"UTF-8\"?><result><concept-id>G1216382986-GHRC</concept-id><revision-id>4</revision-id></result>']"
      ]
     },
     "execution_count": 8,
     "metadata": {},
     "output_type": "execute_result"
    }
   ],
   "source": [
    "cmr.ingestNetCDFFiles(rootDir=\"NETCDFFolder\",ds_short_name=\"A2_RainOcn_NRNB\", versionId=2)"
   ]
  },
  {
   "cell_type": "code",
   "execution_count": 7,
   "metadata": {
    "collapsed": false
   },
   "outputs": [
    {
     "name": "stdout",
     "output_type": "stream",
     "text": [
      "[{'concept-id': 'G1216382985-GHRC', 'collection-concept-id': 'C1216375144-GHRC', 'revision-id': '3', 'Granule': {'Orderable': 'true', 'LastUpdate': '2016-10-27T18:39:08Z', 'InsertTime': '2016-10-27T18:39:08Z', 'Spatial': {'HorizontalSpatialDomain': {'Geometry': {'BoundingRectangle': {'WestBoundingCoordinate': '-82.95992', 'SouthBoundingCoordinate': '35.16795', 'NorthBoundingCoordinate': '35.52453', 'EastBoundingCoordinate': '-81.68137'}}}}, 'DataGranule': {'ProductionDateTime': '2016-10-27T18:39:08Z', 'SizeMBDataGranule': '74.88701', 'DayNightFlag': 'UNSPECIFIED'}, 'GranuleUR': 'IPHEX_HIWRAP_L1B_20140515-165808-20140515-180155_HKa_dist_v02.nc', 'Temporal': {'RangeDateTime': {'EndingDateTime': '2014-05-15T16:58:08Z', 'BeginningDateTime': '2014-05-15T16:58:08Z'}}, 'Collection': {'ShortName': 'A2_RainOcn_NRNB', 'VersionId': '2'}}, 'format': 'application/echo10+xml'}]\n"
     ]
    }
   ],
   "source": [
    "print cmr.searchGranule(concept_id=\"G1216382985-GHRC\")"
   ]
  },
  {
   "cell_type": "code",
   "execution_count": 9,
   "metadata": {
    "collapsed": false
   },
   "outputs": [
    {
     "name": "stdout",
     "output_type": "stream",
     "text": [
      "[{'concept-id': 'G1216382986-GHRC', 'collection-concept-id': 'C1216375144-GHRC', 'revision-id': '4', 'Granule': {'Orderable': 'true', 'LastUpdate': '2016-10-27T19:15:17Z', 'InsertTime': '2016-10-27T19:15:17Z', 'Spatial': {'HorizontalSpatialDomain': {'Geometry': {'BoundingRectangle': {'WestBoundingCoordinate': '-82.95992', 'SouthBoundingCoordinate': '35.16795', 'NorthBoundingCoordinate': '35.52453', 'EastBoundingCoordinate': '-81.68137'}}}}, 'DataGranule': {'ProductionDateTime': '2016-10-27T19:15:17Z', 'SizeMBDataGranule': '74.88701', 'DayNightFlag': 'UNSPECIFIED'}, 'GranuleUR': 'IPHEX_HIWRAP_L1B_20140515-165808-20140515-180155_HKa_dist_v01.nc', 'Temporal': {'RangeDateTime': {'EndingDateTime': '2014-05-15T16:58:08Z', 'BeginningDateTime': '2014-05-15T16:58:08Z'}}, 'Collection': {'ShortName': 'A2_RainOcn_NRNB', 'VersionId': '2'}}, 'format': 'application/echo10+xml'}]\n"
     ]
    }
   ],
   "source": [
    "print cmr.searchGranule(concept_id=\"G1216382986-GHRC\")"
   ]
  }
 ],
 "metadata": {
  "kernelspec": {
   "display_name": "Python [Root]",
   "language": "python",
   "name": "Python [Root]"
  },
  "language_info": {
   "codemirror_mode": {
    "name": "ipython",
    "version": 2
   },
   "file_extension": ".py",
   "mimetype": "text/x-python",
   "name": "python",
   "nbconvert_exporter": "python",
   "pygments_lexer": "ipython2",
   "version": "2.7.12"
  }
 },
 "nbformat": 4,
 "nbformat_minor": 0
}
