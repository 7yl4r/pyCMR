{
 "cells": [
  {
   "cell_type": "code",
   "execution_count": 25,
   "metadata": {
    "collapsed": false
   },
   "outputs": [
    {
     "ename": "ValueError",
     "evalue": "Attempted relative import in non-package",
     "output_type": "error",
     "traceback": [
      "\u001b[1;31m---------------------------------------------------------------------------\u001b[0m",
      "\u001b[1;31mValueError\u001b[0m                                Traceback (most recent call last)",
      "\u001b[1;32m<ipython-input-25-dd23cac0b894>\u001b[0m in \u001b[0;36m<module>\u001b[1;34m()\u001b[0m\n\u001b[1;32m----> 1\u001b[1;33m \u001b[1;32mfrom\u001b[0m \u001b[1;33m.\u001b[0m\u001b[1;33m.\u001b[0m\u001b[0mpyCMR\u001b[0m\u001b[1;33m.\u001b[0m\u001b[0mpyCMR\u001b[0m \u001b[1;32mimport\u001b[0m \u001b[0mCMR2\u001b[0m\u001b[1;33m\u001b[0m\u001b[0m\n\u001b[0m",
      "\u001b[1;31mValueError\u001b[0m: Attempted relative import in non-package"
     ]
    }
   ],
   "source": [
    "from ..pyCMR.pyCMR import CMR2"
   ]
  },
  {
   "cell_type": "code",
   "execution_count": 23,
   "metadata": {
    "collapsed": false
   },
   "outputs": [],
   "source": [
    "import os, sys\n",
    "CURRENT_DIR = os.path.dirname(os.path.abspath('__file__'))"
   ]
  },
  {
   "cell_type": "code",
   "execution_count": 24,
   "metadata": {
    "collapsed": false
   },
   "outputs": [
    {
     "name": "stdout",
     "output_type": "stream",
     "text": [
      "/home/marouane/PycharmProjects/cmr/examples\n"
     ]
    }
   ],
   "source": [
    "print CURRENT_DIR"
   ]
  },
  {
   "cell_type": "code",
   "execution_count": 17,
   "metadata": {
    "collapsed": false
   },
   "outputs": [
    {
     "ename": "AttributeError",
     "evalue": "'CMR' object has no attribute 'ingestNetCDFFiles'",
     "output_type": "error",
     "traceback": [
      "\u001b[1;31m---------------------------------------------------------------------------\u001b[0m",
      "\u001b[1;31mAttributeError\u001b[0m                            Traceback (most recent call last)",
      "\u001b[1;32m<ipython-input-17-f5242ac735a8>\u001b[0m in \u001b[0;36m<module>\u001b[1;34m()\u001b[0m\n\u001b[1;32m----> 1\u001b[1;33m \u001b[0mcmr\u001b[0m\u001b[1;33m.\u001b[0m\u001b[0mingestNetCDFFiles\u001b[0m\u001b[1;33m(\u001b[0m\u001b[0mrootDir\u001b[0m\u001b[1;33m=\u001b[0m\u001b[1;34m\"/home/marouane/Documents/IPHEX/\"\u001b[0m\u001b[1;33m,\u001b[0m\u001b[0mds_short_name\u001b[0m\u001b[1;33m=\u001b[0m\u001b[1;34m\"A2_RainOcn_NRNB\"\u001b[0m\u001b[1;33m)\u001b[0m\u001b[1;33m\u001b[0m\u001b[0m\n\u001b[0m",
      "\u001b[1;31mAttributeError\u001b[0m: 'CMR' object has no attribute 'ingestNetCDFFiles'"
     ]
    }
   ],
   "source": [
    "cmr.ingestNetCDFFiles(rootDir=\"/home/marouane/Documents/IPHEX/\",ds_short_name=\"A2_RainOcn_NRNB\")"
   ]
  }
 ],
 "metadata": {
  "kernelspec": {
   "display_name": "Python [Root]",
   "language": "python",
   "name": "Python [Root]"
  },
  "language_info": {
   "codemirror_mode": {
    "name": "ipython",
    "version": 2
   },
   "file_extension": ".py",
   "mimetype": "text/x-python",
   "name": "python",
   "nbconvert_exporter": "python",
   "pygments_lexer": "ipython2",
   "version": "2.7.12"
  }
 },
 "nbformat": 4,
 "nbformat_minor": 0
}
