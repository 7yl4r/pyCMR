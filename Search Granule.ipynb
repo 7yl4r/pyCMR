{
 "cells": [
  {
   "cell_type": "markdown",
   "metadata": {},
   "source": [
    "Import library"
   ]
  },
  {
   "cell_type": "code",
   "execution_count": 1,
   "metadata": {
    "collapsed": true
   },
   "outputs": [],
   "source": [
    "from pyCMR import searchGranule, searchCollection"
   ]
  },
  {
   "cell_type": "markdown",
   "metadata": {},
   "source": [
    "Search collection using keyword and data center"
   ]
  },
  {
   "cell_type": "code",
   "execution_count": 2,
   "metadata": {
    "collapsed": false
   },
   "outputs": [
    {
     "name": "stdout",
     "output_type": "stream",
     "text": [
      "======== Waiting for response ========\n",
      "100\n",
      "LPDAAC_ECS - MODIS/Terra Land Surface Temperature/Emissivity Daily L3 Global 5km SIN Grid V004 - MOD11B1\n",
      "LPDAAC_ECS - MODIS/Terra Land Surface Temperature/Emissivity Daily L3 Global 1km SIN Grid V004 - MOD11A1\n",
      "LPDAAC_ECS - MODIS/Terra Land Surface Temperature/Emissivity 8-Day L3 Global 1km SIN Grid V004 - MOD11A2\n",
      "LPDAAC_ECS - MODIS/Terra Land Surface Temperature/Emissivity Daily L3 Global 0.05Deg CMG V004 - MOD11C1\n",
      "LPDAAC_ECS - MODIS/Terra Land Surface Temperature/Emissivity 8-Day L3 Global 0.05Deg CMG V004 - MOD11C2\n",
      "LPDAAC_ECS - MODIS/Terra Land Surface Temperature/Emissivity Monthly L3 Global 0.05Deg CMG V004 - MOD11C3\n",
      "LPDAAC_ECS - MODIS/Terra Land Surface Temperature/Emissivity 5-Min L2 Swath 1km V004 - MOD11_L2\n",
      "LPDAAC_ECS - MODIS/Aqua Land Surface Temperature/Emissivity 5-Min L2 Swath 1km V004 - MYD11_L2\n",
      "LPDAAC_ECS - MODIS/Aqua Land Surface Temperature/Emissivity Daily L3 Global 1km SIN Grid V004 - MYD11A1\n",
      "LPDAAC_ECS - MODIS/Aqua Land Surface Temperature/Emissivity 8-Day L3 Global 1km SIN Grid V004 - MYD11A2\n",
      "LPDAAC_ECS - MODIS/Aqua Land Surface Temperature/Emissivity Daily L3 Global 5km SIN Grid V004 - MYD11B1\n",
      "LPDAAC_ECS - MODIS/Aqua Land Surface Temperature/Emissivity Daily L3 Global 0.05Deg CMG V004 - MYD11C1\n",
      "LPDAAC_ECS - MODIS/Aqua Land Surface Temperature/Emissivity 8-Day L3 Global 0.05Deg CMG V004 - MYD11C2\n",
      "LPDAAC_ECS - MODIS/Aqua Land Surface Temperature/Emissivity Monthly L3 Global 0.05Deg CMG V004 - MYD11C3\n",
      "LPDAAC_ECS - MODIS/Terra Land Surface Temperature/Emissivity Daily L3 Global 1km SIN Grid V005 - MOD11A1\n",
      "LPDAAC_ECS - MODIS/Terra Land Surface Temperature/Emissivity 8-Day L3 Global 1km SIN Grid V005 - MOD11A2\n",
      "LPDAAC_ECS - MODIS/Terra Land Surface Temperature/Emissivity Daily L3 Global 6km SIN Grid V005 - MOD11B1\n",
      "LPDAAC_ECS - MODIS/Terra Land Surface Temperature/Emissivity 5-Min L2 Swath 1km V005 - MOD11_L2\n",
      "LPDAAC_ECS - MODIS/Aqua Land Surface Temperature/Emissivity Daily L3 Global 1km SIN Grid V005 - MYD11A1\n",
      "LPDAAC_ECS - MODIS/Aqua Land Surface Temperature/Emissivity 8-Day L3 Global 1km SIN Grid V005 - MYD11A2\n",
      "LPDAAC_ECS - MODIS/Aqua Land Surface Temperature/Emissivity Daily L3 Global 6km SIN Grid V005 - MYD11B1\n",
      "LPDAAC_ECS - MODIS/Aqua Land Surface Temperature/Emissivity 5-Min L2 Swath 1km V005 - MYD11_L2\n",
      "LPDAAC_ECS - MODIS/Terra Land Surface Temperature/Emissivity Daily L3 Global 0.05Deg CMG V005 - MOD11C1\n",
      "LPDAAC_ECS - MODIS/Terra Land Surface Temperature/Emissivity 8-Day L3 Global 0.05Deg CMG V005 - MOD11C2\n",
      "LPDAAC_ECS - MODIS/Terra Land Surface Temperature/Emissivity Monthly L3 Global 0.05Deg CMG V005 - MOD11C3\n",
      "LPDAAC_ECS - MODIS/Aqua Land Surface Temperature/Emissivity Daily L3 Global 0.05Deg CMG V005 - MYD11C1\n",
      "LPDAAC_ECS - MODIS/Aqua Land Surface Temperature/Emissivity 8-Day L3 Global 0.05Deg CMG V005 - MYD11C2\n",
      "LPDAAC_ECS - MODIS/Aqua Land Surface Temperature/Emissivity Monthly L3 Global 0.05Deg CMG V005 - MYD11C3\n",
      "LPDAAC_ECS - MODIS/Terra Land Surface Temperature/Emissivity Daily L3 Global 1km SIN Grid V041 - MOD11A1\n",
      "LPDAAC_ECS - MODIS/Aqua Land Surface Temperature/Emissivity Daily L3 Global 1km SIN Grid V041 - MYD11A1\n",
      "LPDAAC_ECS - MODIS/Aqua Land Surface Temperature/Emissivity Daily L3 Global 5km SIN Grid V041 - MYD11B1\n",
      "LPDAAC_ECS - MODIS/Terra Land Surface Temperature/Emissivity Daily L3 Global 5km SIN Grid V041 - MOD11B1\n",
      "LPDAAC_ECS - MODIS/Aqua Land Surface Temperature/Emissivity Daily L3 Global 0.05Deg CMG V041 - MYD11C1\n",
      "LPDAAC_ECS - MODIS/Terra Land Surface Temperature/Emissivity Daily L3 Global 0.05Deg CMG V041 - MOD11C1\n",
      "LPDAAC_ECS - MODIS/Terra Land Surface Temperature/Emissivity 8-Day L3 Global 0.05Deg CMG V041 - MOD11C2\n",
      "LPDAAC_ECS - MODIS/Aqua Land Surface Temperature/Emissivity 8-Day L3 Global 0.05Deg CMG V041 - MYD11C2\n",
      "LPDAAC_ECS - MODIS/Terra Land Surface Temperature/Emissivity Monthly L3 Global 0.05Deg CMG V041 - MOD11C3\n",
      "LPDAAC_ECS - MODIS/Aqua Land Surface Temperature/Emissivity Monthly L3 Global 0.05Deg CMG V041 - MYD11C3\n",
      "LPDAAC_ECS - MODIS/Terra Land Surface Temperature/Emissivity 5-Min L2 Swath 1km V041 - MOD11_L2\n",
      "LPDAAC_ECS - MODIS/Aqua Land Surface Temperature/Emissivity 5-Min L2 Swath 1km V041 - MYD11_L2\n",
      "LPDAAC_ECS - MODIS/Terra Land Water Mask Derived from MODIS and SRTM L3 Global 250m SIN Grid V005 - MOD44W\n",
      "LPDAAC_ECS - MODIS/Terra+Aqua Land Cover Dynamics Yearly L3 Global 500m SIN Grid V005 - MCD12Q2\n",
      "LPDAAC_ECS - MODIS/Aqua Land Surface Temperature/Emissivity 8-Day L3 Global 1km SIN Grid V006 - MYD11A2\n",
      "LPDAAC_ECS - MODIS/Terra Land Surface Temperature/Emissivity 8-Day L3 Global 1km SIN Grid V006 - MOD11A2\n",
      "LPDAAC_ECS - MODIS/Aqua Land Surface Temperature/Emissivity Daily L3 Global 0.05Deg CMG V006 - MYD11C1\n",
      "LPDAAC_ECS - MODIS/Aqua Land Surface Temperature/Emissivity 8-Day L3 Global 0.05Deg CMG V006 - MYD11C2\n",
      "LPDAAC_ECS - MODIS/Aqua Land Surface Temperature/Emissivity Monthly L3 Global 0.05Deg CMG V006 - MYD11C3\n",
      "LPDAAC_ECS - MODIS/Aqua Land Surface Temperature/Emissivity 5-Min L2 Swath 1km V006 - MYD11_L2\n",
      "LPDAAC_ECS - MODIS/Terra Land Surface Temperature/Emissivity Daily L3 Global 0.05Deg CMG V006 - MOD11C1\n",
      "LPDAAC_ECS - MODIS/Terra Land Surface Temperature/Emissivity 8-Day L3 Global 0.05Deg CMG V006 - MOD11C2\n",
      "LPDAAC_ECS - MODIS/Terra Land Surface Temperature/Emissivity Monthly L3 Global 0.05Deg CMG V006 - MOD11C3\n",
      "LPDAAC_ECS - MODIS/Terra Land Surface Temperature/Emissivity 5-Min L2 Swath 1km V006 - MOD11_L2\n",
      "LPDAAC_ECS - MODIS/Terra+Aqua Land Cover Type Yearly L3 Global 0.05Deg CMG V051 - MCD12C1\n",
      "LPDAAC_ECS - MODIS/Terra+Aqua Land Cover Type Yearly L3 Global 500m SIN Grid V051 - MCD12Q1\n",
      "LPDAAC_ECS - MODIS/Aqua Land Surface Temperature/Emissivity Daily L3 Global 1km SIN Grid V006 - MYD11A1\n",
      "LPDAAC_ECS - MODIS/Terra Land Surface Temperature/Emissivity Daily L3 Global 1km SIN Grid V006 - MOD11A1\n",
      "LPDAAC_ECS - MODIS/Aqua Land Surface Temperature/Emissivity Daily L3 Global 6km SIN Grid V006 - MYD11B1\n",
      "LPDAAC_ECS - MODIS/Aqua Land Surface Temperature/Emissivity 8-Day L3 Global 6km SIN Grid V006 - MYD11B2\n",
      "LPDAAC_ECS - MODIS/Aqua Land Surface Temperature/Emissivity Monthly L3 Global 6km SIN Grid V006 - MYD11B3\n",
      "LPDAAC_ECS - MODIS/Terra Land Surface Temperature/Emissivity Daily L3 Global 6km SIN Grid V006 - MOD11B1\n",
      "LPDAAC_ECS - MODIS/Terra Land Surface Temperature/Emissivity 8-Day L3 Global 6km SIN Grid V006 - MOD11B2\n",
      "LPDAAC_ECS - MODIS/Terra Land Surface Temperature/Emissivity Monthly L3 Global 6km SIN Grid V006 - MOD11B3\n",
      "LPDAAC_ECS - MODIS/Terra Vegetation Cover Conversion 96-Day L3 Global 250m SIN Grid V004 - MOD44A\n",
      "NSIDC_ECS - MODIS/Terra Snow Cover 8-Day L3 Global 500m SIN Grid V005 - MOD10A2\n",
      "NSIDC_ECS - MODIS/Terra Sea Ice Extent Daily L3 Global 1km EASE-Grid Day V005 - MOD29P1D\n",
      "NSIDC_ECS - MODIS/Terra Sea Ice Extent Daily L3 Global 1km EASE-Grid Night V005 - MOD29P1N\n",
      "NSIDC_ECS - MODIS/Terra Snow Cover Daily L3 Global 500m SIN Grid V005 - MOD10A1\n",
      "LPDAAC_ECS - MODIS/Terra+Aqua BRDF/Albedo Model Parameters 16-Day L3 Global 500m SIN Grid V005 - MCD43A1\n",
      "LPDAAC_ECS - MODIS/Terra+Aqua BRDF/Albedo Quality 16-Day L3 Global 500m SIN Grid V005 - MCD43A2\n",
      "LPDAAC_ECS - MODIS/Terra+Aqua Albedo 16-Day L3 Global 500m SIN Grid V005 - MCD43A3\n",
      "LPDAAC_ECS - MODIS/Terra+Aqua Nadir BRDF-Adjusted Reflectance 16-Day L3 Global 500m SIN Grid V005 - MCD43A4\n",
      "LPDAAC_ECS - MODIS/Terra+Aqua BRDF/Albedo Model Parameters 16-Day L3 Global 1km SIN Grid V005 - MCD43B1\n",
      "LPDAAC_ECS - MODIS/Terra+Aqua BRDF/Albedo Quality 16-Day L3 Global 1km SIN Grid V005 - MCD43B2\n",
      "LPDAAC_ECS - MODIS/Terra+Aqua Albedo 16-Day L3 Global 1km SIN Grid V005 - MCD43B3\n",
      "LPDAAC_ECS - MODIS/Terra+Aqua Nadir BRDF-Adjusted Reflectance 16-Day L3 Global 1km SIN Grid V005 - MCD43B4\n",
      "LPDAAC_ECS - MODIS/Terra Surface Reflectance 8-Day L3 Global 500m SIN Grid V005 - MOD09A1\n",
      "LPDAAC_ECS - MODIS/Terra Surface Reflectance Daily L2G Global 1km and 500m SIN Grid V005 - MOD09GA\n",
      "LPDAAC_ECS - MODIS/Terra Surface Reflectance Daily L2G Global 250m SIN Grid V005 - MOD09GQ\n",
      "LPDAAC_ECS - MODIS/Terra Surface Reflectance 8-Day L3 Global 250m SIN Grid V005 - MOD09Q1\n",
      "LPDAAC_ECS - MODIS/Terra Vegetation Indices 16-Day L3 Global 500m SIN Grid V005 - MOD13A1\n",
      "LPDAAC_ECS - MODIS/Terra Vegetation Indices 16-Day L3 Global 1km SIN Grid V005 - MOD13A2\n",
      "LPDAAC_ECS - MODIS/Terra Vegetation Indices Monthly L3 Global 1km SIN Grid V005 - MOD13A3\n",
      "LPDAAC_ECS - MODIS/Terra Vegetation Indices 16-Day L3 Global 250m SIN Grid V005 - MOD13Q1\n",
      "LPDAAC_ECS - MODIS/Terra Thermal Anomalies/Fire 5-Min L2 Swath 1km V005 - MOD14\n",
      "LPDAAC_ECS - MODIS/Terra Thermal Anomalies/Fire Daily L3 Global 1km SIN Grid V005 - MOD14A1\n",
      "LPDAAC_ECS - MODIS/Terra Thermal Anomalies/Fire 8-Day L3 Global 1km SIN Grid V005 - MOD14A2\n",
      "LPDAAC_ECS - MODIS/Terra Leaf Area Index/FPAR 8-Day L4 Global 1km SIN Grid V005 - MOD15A2\n",
      "NSIDC_ECS - MODIS/Aqua Sea Ice Extent Daily L3 Global 1km EASE-Grid Day V005 - MYD29P1D\n",
      "NSIDC_ECS - MODIS/Aqua Sea Ice Extent Daily L3 Global 1km EASE-Grid Night V005 - MYD29P1N\n",
      "NSIDC_ECS - MODIS/Aqua Snow Cover 8-Day L3 Global 500m SIN Grid V005 - MYD10A2\n",
      "NSIDC_ECS - MODIS/Aqua Snow Cover Daily L3 Global 500m SIN Grid V005 - MYD10A1\n",
      "LPDAAC_ECS - MODIS/Aqua Thermal Anomalies/Fire 8-Day L3 Global 1km SIN Grid V005 - MYD14A2\n",
      "LPDAAC_ECS - MODIS/Aqua Surface Reflectance Daily L2G Global 1km and 500m SIN Grid V005 - MYD09GA\n",
      "LPDAAC_ECS - MODIS/Aqua Surface Reflectance 8-Day L3 Global 500m SIN Grid V005 - MYD09A1\n",
      "LPDAAC_ECS - MODIS/Aqua Surface Reflectance Daily L2G Global 250m SIN Grid V005 - MYD09GQ\n",
      "LPDAAC_ECS - MODIS/Aqua Surface Reflectance 8-Day L3 Global 250m SIN Grid V005 - MYD09Q1\n",
      "LPDAAC_ECS - MODIS/Aqua Vegetation Indices 16-Day L3 Global 1km SIN Grid V005 - MYD13A2\n",
      "LPDAAC_ECS - MODIS/Aqua Vegetation Indices 16-Day L3 Global 500m SIN Grid V005 - MYD13A1\n",
      "LPDAAC_ECS - MODIS/Aqua Thermal Anomalies/Fire 5-Min L2 Swath 1km V005 - MYD14\n",
      "LPDAAC_ECS - MODIS/Aqua Thermal Anomalies/Fire Daily L3 Global 1km SIN Grid V005 - MYD14A1\n"
     ]
    }
   ],
   "source": [
    "results = searchCollection(keyword='land&surface&reflectance',data_center='modaps')\n",
    "print len(results)\n",
    "\n",
    "for res in results:\n",
    "    print res['data_center']+' - '+res['title']+' - '+res['short_name']\n",
    "\n"
   ]
  },
  {
   "cell_type": "markdown",
   "metadata": {},
   "source": [
    "Search granules using shortname and date range"
   ]
  },
  {
   "cell_type": "code",
   "execution_count": null,
   "metadata": {
    "collapsed": false
   },
   "outputs": [
    {
     "name": "stdout",
     "output_type": "stream",
     "text": [
      "======== Waiting for response ========\n",
      "http://e4ftl01.cr.usgs.gov//MODIS_Dailies_E/MOLT/MOD09CMG.005/2010.02.01/MOD09CMG.A2010032.005.2010035065737.hdf"
     ]
    }
   ],
   "source": [
    "results = searchGranule(limit=1000,short_name=\"MOD09CMG\",temporal=\"2010-02-01T10:00:00Z,2010-02-01T12:00:00Z\")\n",
    "\n",
    "for res in results:\n",
    "    print res.getDownloadUrl()\n",
    "    res.download()"
   ]
  },
  {
   "cell_type": "code",
   "execution_count": null,
   "metadata": {
    "collapsed": true
   },
   "outputs": [],
   "source": []
  }
 ],
 "metadata": {
  "kernelspec": {
   "display_name": "Python 2",
   "language": "python",
   "name": "python2"
  },
  "language_info": {
   "codemirror_mode": {
    "name": "ipython",
    "version": 2
   },
   "file_extension": ".py",
   "mimetype": "text/x-python",
   "name": "python",
   "nbconvert_exporter": "python",
   "pygments_lexer": "ipython2",
   "version": "2.7.11"
  }
 },
 "nbformat": 4,
 "nbformat_minor": 0
}
